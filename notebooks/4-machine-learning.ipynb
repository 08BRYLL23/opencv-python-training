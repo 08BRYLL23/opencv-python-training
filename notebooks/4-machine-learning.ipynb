{
 "cells": [
  {
   "cell_type": "code",
   "execution_count": 4,
   "metadata": {},
   "outputs": [
    {
     "name": "stdout",
     "output_type": "stream",
     "text": [
      "(1000, 2000)\n",
      "(50, 100, 20, 20)\n",
      "(2500, 400)\n",
      "79.24\n"
     ]
    }
   ],
   "source": [
    "import cv2\n",
    "import numpy as np\n",
    "import matplotlib.pyplot as plt\n",
    "\n",
    "\n",
    "#load image\n",
    "mnist = cv2.imread('../datasets/digits.png',0)\n",
    "\n",
    "#shape is in the form of (y,x)\n",
    "print(mnist.shape)\n",
    "\n",
    "#get region of interest by splitting the images\n",
    "images = np.array([np.hsplit(row,100) for row in np.vsplit(mnist,50)], dtype=np.float32)\n",
    "print(images.shape)\n",
    "\n",
    "\n",
    "#split images to get half of the image as train then the rest for test\n",
    "train_features = images[:, :50].reshape(-1,(20*20))\n",
    "\n",
    "#split the remaining for test\n",
    "test_feature = images[:, 50:100].reshape(-1,(20 * 20))\n",
    "\n",
    "print(train_features.shape)\n",
    "\n",
    "#create labels | k = classes | \n",
    "k = np.arange(10)\n",
    "train_labels = np.repeat(k,250).reshape(-1, 1)\n",
    "test_labels = train_labels.copy()\n",
    "\n",
    "#mean normalization\n",
    "train_features -= np.mean(train_features, axis = 0)\n",
    "test_feature -= np.mean(train_features, axis = 0)\n",
    "\n",
    "#create kNN Model\n",
    "knn = cv2.ml.KNearest_create()\n",
    "\n",
    "#train the kNN Model\n",
    "knn.train(train_features, cv2.ml.ROW_SAMPLE,train_labels)\n",
    "\n",
    "#using the trained model\n",
    "ret,result,neighbors, dist = knn.findNearest(test_feature,3)\n",
    "\n",
    "#check accuracy\n",
    "matches = np.equal(result,test_labels)\n",
    "matches = matches.astype(np.int)\n",
    "correct = np.count_nonzero(matches)\n",
    "accuracy = (correct * 100.00)/result.size\n",
    "\n",
    "print(accuracy)\n",
    "\n"
   ]
  },
  {
   "cell_type": "code",
   "execution_count": null,
   "metadata": {},
   "outputs": [],
   "source": [
    "model = cv2.ml.SVM_create()\n",
    "model.setKernel(cv2.ml.SVM_LINEAR)\n",
    "model.setC(2.67)\n",
    "model.setGamma(5.383)\n",
    "model.setType(cv2.ml.SVM_C_SVC)\n",
    "\n",
    "#train the model\n",
    "model.train(train_features, cv2.ml.ROW_SAMPLE,train_labels)\n",
    "#using the new SVM Model\n",
    "result = model.predict(test_feature)\n",
    "#measure model accuracy\n",
    "matches = np.equal(result[1],test_labels)\n",
    "matches = matches.astype(np.int)\n",
    "correct = np.count_nonzero(matches)\n",
    "accuracy = (correct * 100.00)/ result[1].size\n",
    "\n",
    "print(accuracy)"
   ]
  },
  {
   "cell_type": "markdown",
   "metadata": {},
   "source": [
    "#mean normalization\n",
    "train_features -= np.mean(train_features, axis = 0)\n",
    "test_feature -= np.mean(train_features, axis = 0)"
   ]
  },
  {
   "cell_type": "code",
   "execution_count": null,
   "metadata": {},
   "outputs": [],
   "source": []
  },
  {
   "cell_type": "markdown",
   "metadata": {},
   "source": [
    "### Principal Component Analysis"
   ]
  },
  {
   "cell_type": "code",
   "execution_count": 10,
   "metadata": {},
   "outputs": [
    {
     "name": "stdout",
     "output_type": "stream",
     "text": [
      "(1000, 2000)\n",
      "(50, 100, 20, 20) LoL\n",
      "(5000, 50) Dafuq2\n"
     ]
    },
    {
     "ename": "ValueError",
     "evalue": "n_components=400 must be between 0 and n_features=50 with svd_solver='full'",
     "output_type": "error",
     "traceback": [
      "\u001b[1;31m---------------------------------------------------------------------------\u001b[0m",
      "\u001b[1;31mValueError\u001b[0m                                Traceback (most recent call last)",
      "\u001b[1;32m<ipython-input-10-6d74ddd2e14f>\u001b[0m in \u001b[0;36m<module>\u001b[1;34m()\u001b[0m\n\u001b[0;32m     30\u001b[0m \u001b[0mtest_feature\u001b[0m \u001b[1;33m=\u001b[0m \u001b[0mimages\u001b[0m\u001b[1;33m[\u001b[0m\u001b[1;33m:\u001b[0m\u001b[1;33m,\u001b[0m \u001b[1;36m50\u001b[0m\u001b[1;33m:\u001b[0m\u001b[1;36m100\u001b[0m\u001b[1;33m]\u001b[0m\u001b[1;33m\u001b[0m\u001b[0m\n\u001b[0;32m     31\u001b[0m \u001b[0mprint\u001b[0m\u001b[1;33m(\u001b[0m\u001b[0mtrain_features\u001b[0m\u001b[1;33m.\u001b[0m\u001b[0mshape\u001b[0m\u001b[1;33m,\u001b[0m\u001b[1;34m\"Dafuq2\"\u001b[0m\u001b[1;33m)\u001b[0m\u001b[1;33m\u001b[0m\u001b[0m\n\u001b[1;32m---> 32\u001b[1;33m \u001b[0mpca\u001b[0m\u001b[1;33m.\u001b[0m\u001b[0mfit\u001b[0m\u001b[1;33m(\u001b[0m\u001b[0mtrain_features\u001b[0m\u001b[1;33m)\u001b[0m\u001b[1;33m\u001b[0m\u001b[0m\n\u001b[0m\u001b[0;32m     33\u001b[0m \u001b[1;33m\u001b[0m\u001b[0m\n\u001b[0;32m     34\u001b[0m \u001b[1;31m#PCA Plotting\u001b[0m\u001b[1;33m\u001b[0m\u001b[1;33m\u001b[0m\u001b[0m\n",
      "\u001b[1;32m~\\AppData\\Local\\Continuum\\anaconda3\\lib\\site-packages\\sklearn\\decomposition\\pca.py\u001b[0m in \u001b[0;36mfit\u001b[1;34m(self, X, y)\u001b[0m\n\u001b[0;32m    327\u001b[0m             \u001b[0mReturns\u001b[0m \u001b[0mthe\u001b[0m \u001b[0minstance\u001b[0m \u001b[0mitself\u001b[0m\u001b[1;33m.\u001b[0m\u001b[1;33m\u001b[0m\u001b[0m\n\u001b[0;32m    328\u001b[0m         \"\"\"\n\u001b[1;32m--> 329\u001b[1;33m         \u001b[0mself\u001b[0m\u001b[1;33m.\u001b[0m\u001b[0m_fit\u001b[0m\u001b[1;33m(\u001b[0m\u001b[0mX\u001b[0m\u001b[1;33m)\u001b[0m\u001b[1;33m\u001b[0m\u001b[0m\n\u001b[0m\u001b[0;32m    330\u001b[0m         \u001b[1;32mreturn\u001b[0m \u001b[0mself\u001b[0m\u001b[1;33m\u001b[0m\u001b[0m\n\u001b[0;32m    331\u001b[0m \u001b[1;33m\u001b[0m\u001b[0m\n",
      "\u001b[1;32m~\\AppData\\Local\\Continuum\\anaconda3\\lib\\site-packages\\sklearn\\decomposition\\pca.py\u001b[0m in \u001b[0;36m_fit\u001b[1;34m(self, X)\u001b[0m\n\u001b[0;32m    390\u001b[0m         \u001b[1;31m# Call different fits for either full or truncated SVD\u001b[0m\u001b[1;33m\u001b[0m\u001b[1;33m\u001b[0m\u001b[0m\n\u001b[0;32m    391\u001b[0m         \u001b[1;32mif\u001b[0m \u001b[0msvd_solver\u001b[0m \u001b[1;33m==\u001b[0m \u001b[1;34m'full'\u001b[0m\u001b[1;33m:\u001b[0m\u001b[1;33m\u001b[0m\u001b[0m\n\u001b[1;32m--> 392\u001b[1;33m             \u001b[1;32mreturn\u001b[0m \u001b[0mself\u001b[0m\u001b[1;33m.\u001b[0m\u001b[0m_fit_full\u001b[0m\u001b[1;33m(\u001b[0m\u001b[0mX\u001b[0m\u001b[1;33m,\u001b[0m \u001b[0mn_components\u001b[0m\u001b[1;33m)\u001b[0m\u001b[1;33m\u001b[0m\u001b[0m\n\u001b[0m\u001b[0;32m    393\u001b[0m         \u001b[1;32melif\u001b[0m \u001b[0msvd_solver\u001b[0m \u001b[1;32min\u001b[0m \u001b[1;33m[\u001b[0m\u001b[1;34m'arpack'\u001b[0m\u001b[1;33m,\u001b[0m \u001b[1;34m'randomized'\u001b[0m\u001b[1;33m]\u001b[0m\u001b[1;33m:\u001b[0m\u001b[1;33m\u001b[0m\u001b[0m\n\u001b[0;32m    394\u001b[0m             \u001b[1;32mreturn\u001b[0m \u001b[0mself\u001b[0m\u001b[1;33m.\u001b[0m\u001b[0m_fit_truncated\u001b[0m\u001b[1;33m(\u001b[0m\u001b[0mX\u001b[0m\u001b[1;33m,\u001b[0m \u001b[0mn_components\u001b[0m\u001b[1;33m,\u001b[0m \u001b[0msvd_solver\u001b[0m\u001b[1;33m)\u001b[0m\u001b[1;33m\u001b[0m\u001b[0m\n",
      "\u001b[1;32m~\\AppData\\Local\\Continuum\\anaconda3\\lib\\site-packages\\sklearn\\decomposition\\pca.py\u001b[0m in \u001b[0;36m_fit_full\u001b[1;34m(self, X, n_components)\u001b[0m\n\u001b[0;32m    408\u001b[0m             raise ValueError(\"n_components=%r must be between 0 and \"\n\u001b[0;32m    409\u001b[0m                              \u001b[1;34m\"n_features=%r with svd_solver='full'\"\u001b[0m\u001b[1;33m\u001b[0m\u001b[0m\n\u001b[1;32m--> 410\u001b[1;33m                              % (n_components, n_features))\n\u001b[0m\u001b[0;32m    411\u001b[0m \u001b[1;33m\u001b[0m\u001b[0m\n\u001b[0;32m    412\u001b[0m         \u001b[1;31m# Center data\u001b[0m\u001b[1;33m\u001b[0m\u001b[1;33m\u001b[0m\u001b[0m\n",
      "\u001b[1;31mValueError\u001b[0m: n_components=400 must be between 0 and n_features=50 with svd_solver='full'"
     ]
    }
   ],
   "source": [
    "import cv2\n",
    "import numpy as np\n",
    "import matplotlib.pyplot as plt\n",
    "from sklearn.decomposition import PCA\n",
    "\n",
    "#load image\n",
    "mnist = cv2.imread('../datasets/digits.png',0)\n",
    "\n",
    "#shape is in the form of (y,x)\n",
    "print(mnist.shape)\n",
    "\n",
    "#get region of interest by splitting the images\n",
    "images = np.array([np.hsplit(row,100) for row in np.vsplit(mnist,50)], dtype=np.float32)\n",
    "\n",
    "print(images.shape,'LoL')\n",
    "\n",
    "\n",
    "#PCA initialization\n",
    "images = images.reshape(-1,(20*20))\n",
    "\n",
    "pca = PCA(n_components=images.shape[1])\n",
    "\n",
    "\n",
    "\n",
    "\n",
    "\n",
    "#split images to get half of the image as train then the rest for test\n",
    "train_features = images[:, :50]\n",
    "#split the remaining for test\n",
    "test_feature = images[:, 50:100]\n",
    "print(train_features.shape,\"Dafuq2\")\n",
    "pca.fit(train_features)\n",
    "\n",
    "#PCA Plotting\n",
    "pca.fit(train_features)\n",
    "plt.plot(np.cumsum(pca.explained_variance_ratio_))\n",
    "plt.xlabel('Num of Components')\n",
    "plt.ylabel('Cumulative Explained Variance')\n",
    "plt.show()\n",
    "\n",
    "train_features = pca.transform(train_features)\n",
    "test_feature = pca.transform(test_feature)\n",
    "\n",
    "print(train_features.shape,\"Dafuq\")\n",
    "\n",
    "#create labels | k = classes | \n",
    "k = np.arange(10)\n",
    "train_labels = np.repeat(k,250).reshape(-1, 1)\n",
    "test_labels = train_labels.copy()\n",
    "\n",
    "\n",
    "#create kNN Model\n",
    "knn = cv2.ml.KNearest_create()\n",
    "\n",
    "#train the kNN Model\n",
    "knn.train(train_features, cv2.ml.ROW_SAMPLE,train_labels)\n",
    "\n",
    "#using the trained model\n",
    "ret,result,neighbors, dist = knn.findNearest(test_feature,3)\n",
    "\n",
    "#check accuracy\n",
    "matches = np.equal(result,test_labels)\n",
    "matches = matches.astype(np.int)\n",
    "correct = np.count_nonzero(matches)\n",
    "accuracy = (correct * 100.00)/result.size\n",
    "\n",
    "print(accuracy)\n"
   ]
  },
  {
   "cell_type": "code",
   "execution_count": null,
   "metadata": {},
   "outputs": [],
   "source": []
  },
  {
   "cell_type": "code",
   "execution_count": null,
   "metadata": {},
   "outputs": [],
   "source": []
  }
 ],
 "metadata": {
  "kernelspec": {
   "display_name": "Python 3",
   "language": "python",
   "name": "python3"
  }
 },
 "nbformat": 4,
 "nbformat_minor": 2
}
